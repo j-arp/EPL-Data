{
 "cells": [
  {
   "cell_type": "code",
   "execution_count": 1,
   "metadata": {
    "collapsed": true
   },
   "outputs": [],
   "source": [
    "import numpy as np\n",
    "import pandas as pd"
   ]
  },
  {
   "cell_type": "code",
   "execution_count": 18,
   "metadata": {},
   "outputs": [],
   "source": [
    "epl_df = pd.read_csv('./data/epl.csv')\n",
    "epl_df.drop('division', axis=1, inplace=True)\n",
    "epl_df.head()\n",
    "#epl_df.dtypes\n",
    "teams_df = epl_df.groupby('homeTeam')\n",
    "teams_df.count()\n",
    "\n",
    "arsenal_df = epl_df[(epl_df['homeTeam'] == 'Arsenal') | (epl_df['awayTeam'] == 'Arsenal')]\n",
    "arsenal_df.to_csv('./data/arsenal.csv')\n"
   ]
  },
  {
   "cell_type": "code",
   "execution_count": 17,
   "metadata": {},
   "outputs": [
    {
     "data": {
      "text/plain": [
       "Unnamed: 0                   int64\n",
       "Unnamed: 0.1                 int64\n",
       "id                           int64\n",
       "homeTacklesTotalHT           int64\n",
       "homeShotsTotalHT             int64\n",
       "awayDispossessedFT         float64\n",
       "awayPassSuccessFT          float64\n",
       "awayRatingsFT              float64\n",
       "awayDribbleSuccessFT       float64\n",
       "awayDribblesAttemptedHT      int64\n",
       "awayTeamLineUp              object\n",
       "awayShotsBlockedHT         float64\n",
       "awayShotsTotalHT           float64\n",
       "homeDribbleSuccessHT       float64\n",
       "homeFoulsCommitedFT          int64\n",
       "homeAerialsTotalFT           int64\n",
       "homeRatingsHT              float64\n",
       "awayShotsOnTargetFT        float64\n",
       "awayShotsBlockedFT         float64\n",
       "homeInterceptionsHT          int64\n",
       "awayPossessionHT           float64\n",
       "homePassesKeyFT              int64\n",
       "awayShotsOnTargetHT        float64\n",
       "awayDribblesWonFT          float64\n",
       "awayTackleSuccessHT        float64\n",
       "homeCornersTotalFT         float64\n",
       "homeAerialsTotalHT           int64\n",
       "homeShotsBlockedFT         float64\n",
       "awayCornersTotalHT         float64\n",
       "homeCornersTotalHT         float64\n",
       "                            ...   \n",
       "homeDribbledPastHT         float64\n",
       "awayFoulsCommitedHT          int64\n",
       "homeShotsTotalFT             int64\n",
       "homePassSuccessFT          float64\n",
       "homeFoulsCommitedHT          int64\n",
       "awayCornersTotalFT         float64\n",
       "homeTeam                    object\n",
       "homeManagerName             object\n",
       "awayFoulsCommitedFT          int64\n",
       "homeShotsOnTargetFT        float64\n",
       "homeDribblesAttemptedHT    float64\n",
       "awayRatingsHT              float64\n",
       "homeOffsidesCaughtHT       float64\n",
       "homeTacklesTotalFT           int64\n",
       "awayDribbledPastHT         float64\n",
       "awayGoalFT                   int64\n",
       "homePassesKeyHT              int64\n",
       "homeOffsidesCaughtFT       float64\n",
       "homePossessionHT           float64\n",
       "venueName                   object\n",
       "awayDribblesAttemptedFT      int64\n",
       "homeInterceptionsFT          int64\n",
       "homePassSuccessHT          float64\n",
       "date                        object\n",
       "awayTacklesTotalFT           int64\n",
       "homeRatingsFT              float64\n",
       "homeDribblesAttemptedFT    float64\n",
       "homeTackleSuccessFT        float64\n",
       "awayPossessionFT           float64\n",
       "awayShotsTotalFT           float64\n",
       "Length: 94, dtype: object"
      ]
     },
     "execution_count": 17,
     "metadata": {},
     "output_type": "execute_result"
    }
   ],
   "source": [
    "arsenal_df.dtypes"
   ]
  }
 ],
 "metadata": {
  "kernelspec": {
   "display_name": "Python 3",
   "language": "python",
   "name": "python3"
  },
  "language_info": {
   "codemirror_mode": {
    "name": "ipython",
    "version": 3
   },
   "file_extension": ".py",
   "mimetype": "text/x-python",
   "name": "python",
   "nbconvert_exporter": "python",
   "pygments_lexer": "ipython3",
   "version": "3.6.1"
  }
 },
 "nbformat": 4,
 "nbformat_minor": 2
}
