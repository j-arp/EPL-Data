{
 "cells": [
  {
   "cell_type": "code",
   "execution_count": 1,
   "metadata": {
    "collapsed": true
   },
   "outputs": [],
   "source": [
    "import pandas as pd\n",
    "import numpy as np"
   ]
  },
  {
   "cell_type": "code",
   "execution_count": 22,
   "metadata": {},
   "outputs": [
    {
     "name": "stderr",
     "output_type": "stream",
     "text": [
      "/Users/jarp/anaconda3/lib/python3.6/site-packages/IPython/core/interactiveshell.py:2717: DtypeWarning: Columns (39,61) have mixed types. Specify dtype option on import or set low_memory=False.\n",
      "  interactivity=interactivity, compiler=compiler, result=result)\n"
     ]
    },
    {
     "data": {
      "text/plain": [
       "Unnamed: 0                   int64\n",
       "id                           int64\n",
       "homeTacklesTotalHT           int64\n",
       "homeShotsTotalHT             int64\n",
       "awayDispossessedFT         float64\n",
       "awayPassSuccessFT          float64\n",
       "awayRatingsFT              float64\n",
       "awayDribbleSuccessFT       float64\n",
       "awayDribblesAttemptedHT      int64\n",
       "awayTeamLineUp              object\n",
       "awayShotsBlockedHT         float64\n",
       "awayShotsTotalHT           float64\n",
       "homeDribbleSuccessHT       float64\n",
       "homeFoulsCommitedFT          int64\n",
       "homeAerialsTotalFT           int64\n",
       "homeRatingsHT              float64\n",
       "awayShotsOnTargetFT        float64\n",
       "awayShotsBlockedFT         float64\n",
       "homeInterceptionsHT          int64\n",
       "awayPossessionHT           float64\n",
       "homePassesKeyFT              int64\n",
       "awayShotsOnTargetHT        float64\n",
       "awayDribblesWonFT          float64\n",
       "awayTackleSuccessHT        float64\n",
       "homeCornersTotalFT         float64\n",
       "homeAerialsTotalHT           int64\n",
       "homeShotsBlockedFT         float64\n",
       "awayCornersTotalHT         float64\n",
       "homeCornersTotalHT         float64\n",
       "homeDribbleSuccessFT       float64\n",
       "                            ...   \n",
       "awayFoulsCommitedHT          int64\n",
       "homeShotsTotalFT             int64\n",
       "homePassSuccessFT          float64\n",
       "homeFoulsCommitedHT          int64\n",
       "awayCornersTotalFT         float64\n",
       "homeTeam                    object\n",
       "homeManagerName             object\n",
       "awayFoulsCommitedFT          int64\n",
       "homeShotsOnTargetFT        float64\n",
       "homeDribblesAttemptedHT    float64\n",
       "awayRatingsHT              float64\n",
       "homeOffsidesCaughtHT       float64\n",
       "homeTacklesTotalFT           int64\n",
       "awayDribbledPastHT         float64\n",
       "awayGoalFT                   int64\n",
       "homePassesKeyHT              int64\n",
       "homeOffsidesCaughtFT       float64\n",
       "homePossessionHT           float64\n",
       "venueName                   object\n",
       "awayDribblesAttemptedFT      int64\n",
       "homeInterceptionsFT          int64\n",
       "homePassSuccessHT          float64\n",
       "date                        object\n",
       "awayTacklesTotalFT           int64\n",
       "homeRatingsFT              float64\n",
       "homeDribblesAttemptedFT    float64\n",
       "homeTackleSuccessFT        float64\n",
       "awayPossessionFT           float64\n",
       "awayShotsTotalFT           float64\n",
       "division                    object\n",
       "Length: 94, dtype: object"
      ]
     },
     "execution_count": 22,
     "metadata": {},
     "output_type": "execute_result"
    }
   ],
   "source": [
    "data = pd.read_csv('./data/FootballEurope.csv')\n",
    "data.head()\n",
    "data.dtypes"
   ]
  },
  {
   "cell_type": "code",
   "execution_count": 21,
   "metadata": {},
   "outputs": [
    {
     "name": "stderr",
     "output_type": "stream",
     "text": [
      "/Users/jarp/anaconda3/lib/python3.6/site-packages/ipykernel_launcher.py:4: SettingWithCopyWarning: \n",
      "A value is trying to be set on a copy of a slice from a DataFrame.\n",
      "Try using .loc[row_indexer,col_indexer] = value instead\n",
      "\n",
      "See the caveats in the documentation: http://pandas.pydata.org/pandas-docs/stable/indexing.html#indexing-view-versus-copy\n",
      "  after removing the cwd from sys.path.\n"
     ]
    }
   ],
   "source": [
    "# create a smaller set of just epl matches\n",
    "\n",
    "epl = data[ data['division'] == 'EPL']\n",
    "epl['date'] = pd.to_datetime(epl['date'])\n",
    "epl.to_csv('./data/epl.csv')"
   ]
  }
 ],
 "metadata": {
  "kernelspec": {
   "display_name": "Python 3",
   "language": "python",
   "name": "python3"
  },
  "language_info": {
   "codemirror_mode": {
    "name": "ipython",
    "version": 3
   },
   "file_extension": ".py",
   "mimetype": "text/x-python",
   "name": "python",
   "nbconvert_exporter": "python",
   "pygments_lexer": "ipython3",
   "version": "3.6.1"
  }
 },
 "nbformat": 4,
 "nbformat_minor": 2
}
